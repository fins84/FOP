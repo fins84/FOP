{
 "cells": [
  {
   "cell_type": "markdown",
   "metadata": {},
   "source": [
    "#Overview of Assignment:\n",
    "The purpose of this Simulation is to simulate a population of animals and who can do basic interaction with eachother and others and to be able to use this simulation to run tests to find the best way to maximise how long they will last with diffirent combinations of numbers of animals and food.\n",
    "\n",
    "My take on the PaSciRo simulation slightly varied from some suggestions provided in the assignment description. I used three animals but I didn't have have a paper, scissors, rock way of describing which animal would eat which, I decided to structure it around real life food chains, food eaten by omnivore and herbivore and those two types of animals eaten by the Carnivore. \n",
    "\n",
    "To try and balance these animals, I had created unique movement patterns with the thought that omnivores, as they are allowed to eat both food and herbivores, had the worst movement (up, down left, right). Herbivores had a slighly better movement pattern being able to also move in the diagonal directions. Carnivores were given the most mobile movement of the animals, since they required eating moving animals, I gave them 2 tile movement steps.\n",
    "\n",
    "I had originally wanted to have the animals find the closest animal/food when they were hungry and then pathfind their way towards that target objects, from past experience with pathfinding algorithms, I was considering implementing the A* pathfinding algorithm but due to time constraints (creating documentation), I decided that it wasn't worth it.\n",
    "\n",
    "The food was meant to be a basic simulation of how plants grow, each turn they would increase in hunger replenishement value (by 1) and when they got past a certain value, they had a chance to spread to a random tile around them. This meant that with the right parameter values, the animals could live continuosly together without making any animal go extinct.\n",
    "\n",
    "The way I created these animals and their movement was through classes. I had a master class for animals which had the __init__ function creating all of the variables and functions which were commmon to all animals, then I created a sub class for each of the separate animals which had a movment function which also encompassed moving.\n",
    "I originally thought that I would use more functions for the subclasses but turned out that I only needed one."
   ]
  },
  {
   "cell_type": "code",
   "execution_count": null,
   "metadata": {},
   "outputs": [],
   "source": [
    "#This is the master class for all animals\n",
    "class animal_master():\n",
    "    def __init__(self, position, hunger, subtype):\n",
    "        self.current = position\n",
    "        self.hunger = hunger\n",
    "        self.type = 'animal'\n",
    "        self.subtype = subtype\n",
    "        self.turn = 0\n",
    "        self.t_since_last_xxx = 1\n",
    "    def update_self(self, location_array):\n",
    "        '''\n",
    "        updates timestep based variables like time_since_last_xxx (last procreation) and hunger\n",
    "        '''\n",
    "        if self.t_since_last_xxx != 0:\n",
    "            self.t_since_last_xxx += 1\n",
    "        self.hunger -= 1\n",
    "        if self.hunger == 0:\n",
    "            location_array[self.current[0]][self.current[1]] = None\n",
    "    def procreate(self, location_array, chance_xxx): #can only procreate once per x turns\n",
    "        nearbye = []\n",
    "        empty = []\n",
    "\n",
    "        #splits and converts the current location of the object to shorter and easier to type variables\n",
    "        x = self.current[1]\n",
    "        y = self.current[0]\n",
    "\n",
    "        #Checks to see if hunger is greater than a certain point and that it hasn't procreated in a certain time frame\n",
    "        if self.hunger >= 5 and self.t_since_last_xxx >= 5:\n",
    "            #iterates through the location array and appends empty tiles around the objects current location\n",
    "            for j in range(y-1, y+2):\n",
    "                for i in range(x-1, x+2):\n",
    "                    if [j, i] == [y, x]:\n",
    "                        pass\n",
    "                    elif i in range(0, len(location_array[0])) and j in range(0, len(location_array)):\n",
    "                        if location_array[j][i] is None:\n",
    "                            empty.append([j, i])\n",
    "                        elif location_array[j][i].type == 'animal':\n",
    "                            if location_array[j][i].subtype == self.subtype and location_array[j][i].hunger >= 5:\n",
    "                                nearbye.append([j, i])\n",
    "\n",
    "\n",
    "            '''checks chance to procreate and then checks if required parameters are met(nearbye animals of same type\n",
    "            and empty tiles nearbye)\n",
    "            '''\n",
    "            if len(nearbye) >= 1 and random.randint(0,100) <= chance_xxx and len(empty) > 0:\n",
    "                choice_xxx = random.choice(nearbye)\n",
    "                location_array[choice_xxx[0]][choice_xxx[1]].t_since_last_xxx = 0\n",
    "                location_array[choice_xxx[0]][choice_xxx[1]].hunger -= 3\n",
    "                self.hunger -= 3\n",
    "                self.t_since_last_xxx = 0\n",
    "                '''updates hunger of parent animals(when procreate, subtracts some hunger) and also resets the counter \n",
    "                for time_since_last_xxx\n",
    "                '''\n",
    "                location_baby = random.choice(empty)\n",
    "                #Checks which type of animal is procreating and then creates a 'baby' of that type near the parent\n",
    "                if self.subtype == 'animal_1':\n",
    "                    location_array[location_baby[0]][location_baby[1]] = animal_1(location_baby, 5, 'animal_1')\n",
    "                    location_array[location_baby[0]][location_baby[1]].turn = self.turn\n",
    "                if self.subtype == 'animal_2':\n",
    "                    location_array[location_baby[0]][location_baby[1]] = animal_2(location_baby, 5, 'animal_2')\n",
    "                    location_array[location_baby[0]][location_baby[1]].turn = self.turn\n",
    "                if self.subtype == 'animal_3':\n",
    "                    location_array[location_baby[0]][location_baby[1]] = animal_3(location_baby, 5, 'animal_3')\n",
    "                    location_array[location_baby[0]][location_baby[1]].turn = self.turn"
   ]
  },
  {
   "cell_type": "code",
   "execution_count": null,
   "metadata": {},
   "outputs": [],
   "source": [
    "#This is the subclass for animal 1\n",
    "class animal_1(animal_master):\n",
    "    # herbivore animal (only eats 'food')\n",
    "    def movement(self, location_array, when_eat):\n",
    "        '''\n",
    "        Movement of animal_1 encompasses both moving and eating\n",
    "        Priorities of moving and eating are as follow:\n",
    "        1. If hunger is below a certain threshold, look for and eat food\n",
    "        2. Move to a random tile in a 1 block radius around its current position\n",
    "        '''\n",
    "\n",
    "        # splits object's current location to easier to type variables\n",
    "        x = self.current[1]\n",
    "        y = self.current[0]\n",
    "        movement = []\n",
    "\n",
    "        # adds tiles in a 1 block radius around the current location to a list (also checking if in bounds of 'arena'\n",
    "        for j in range(y-1, y+2):\n",
    "            for i in range(x-1, x+2):\n",
    "                if [j,i] == [y, x]:\n",
    "                    pass\n",
    "                elif i in range(0, len(location_array[0])) and j in range(0, len(location_array)):\n",
    "                    movement.append([j, i])\n",
    "\n",
    "        choices = []\n",
    "        eat_tile = []\n",
    "        move = []\n",
    "        # checks to see what is in the tiles nearbye and takes note of where the food and empty tiles are\n",
    "        for points in movement:\n",
    "            if location_array[points[0]][points[1]] is None:\n",
    "                choices.append(points)\n",
    "            elif location_array[points[0]][points[1]].subtype == 'food':\n",
    "                eat_tile.append(points)\n",
    "\n",
    "        if len(eat_tile) >= 1 and self.hunger <= when_eat:\n",
    "            # Animal 1 has a long reach therefore, when eating food, can eat adjacent tile without moving to it\n",
    "            move = random.choice(eat_tile)\n",
    "            self.hunger += location_array[move[0]][move[1]].value\n",
    "            location_array[move[0]][move[1]] = None\n",
    "        elif len(choices) > 0:\n",
    "            # checks to see if there are empty tiles otherwise doesn't move anywhere\n",
    "            move = random.choice(choices)\n",
    "            location_array[y][x], location_array[move[0]][move[1]] = location_array[move[0]][move[1]],  location_array[y][x]\n",
    "\n",
    "        if len(move) == 0:\n",
    "            self.turn += 1\n",
    "        else:\n",
    "            self.current = move\n",
    "            self.turn += 1\n",
    "        return location_array"
   ]
  },
  {
   "cell_type": "markdown",
   "metadata": {},
   "source": [
    "For food, I didn't need any subclasses, just a single class which outlined the basic things that it does i.e (spreading and updating self)\n",
    "\n",
    "To smoothen out the creation stage of all the animals, I created functions to loop create individual animals with unique locations in empty spaces. This was done for both animals and food"
   ]
  },
  {
   "cell_type": "code",
   "execution_count": null,
   "metadata": {},
   "outputs": [],
   "source": [
    "def gencoordinates(fieldsize): #generating a random x and y value between 0 and the max x and y fieldsize\n",
    "    x = random.randint(0, fieldsize[0]-1)\n",
    "    y = random.randint(0, fieldsize[1]-1)\n",
    "    return x, y\n",
    "def genfood(n_food, location_array, fieldsize): #generates the location of food for omnivores and herbivores\n",
    "    c = 0\n",
    "    #making sure that all food is generated\n",
    "    while c != n_food:\n",
    "        x, y = gencoordinates(fieldsize)\n",
    "        #checking to that the x y coordinates in the location array is empty\n",
    "        if location_array[y][x] is None:\n",
    "            location = [y, x]\n",
    "            #Generating food at empty location\n",
    "            location_array[y][x] = food(location)\n",
    "            c += 1"
   ]
  },
  {
   "cell_type": "markdown",
   "metadata": {},
   "source": [
    "To smooth out iterating through all objects, I created a 2 dimensional numpy array of the objects which meant that my program just had to do a double for loop to look at the objects. The only problem that arose from this was that some objects were moving to parts of the array which were not itterated on (therefore moving multiple times in 1 turn), this lead to me needing to add a move counter to make sure that all objects only had 1 turn per cycle.\n",
    "\n",
    "I also created some other functions to make the test code shorter and easier to write. This included, converting the object array to a number array for saving to csv files, a function to save to csv files, animal counter and pygame display function."
   ]
  },
  {
   "cell_type": "markdown",
   "metadata": {},
   "source": [
    "#How to use Assignment_Test.py\n",
    "Only you need to worry about is the variables under the commend \"Changeable variables\"\n",
    "All of these variable can be changed and edited and will provide a different result.\n",
    "\n",
    "NOTE: The test file is designed to run until there are no animals left on the field or when the max turn counter is met"
   ]
  },
  {
   "cell_type": "code",
   "execution_count": 1,
   "metadata": {},
   "outputs": [
    {
     "ename": "NameError",
     "evalue": "name 'random' is not defined",
     "output_type": "error",
     "traceback": [
      "\u001b[1;31m---------------------------------------------------------------------------\u001b[0m",
      "\u001b[1;31mNameError\u001b[0m                                 Traceback (most recent call last)",
      "\u001b[1;32m<ipython-input-1-7a4bd5299a19>\u001b[0m in \u001b[0;36m<module>\u001b[1;34m\u001b[0m\n\u001b[0;32m      6\u001b[0m \u001b[0mchance_xxx\u001b[0m \u001b[1;33m=\u001b[0m \u001b[1;36m100\u001b[0m\u001b[1;33m\u001b[0m\u001b[1;33m\u001b[0m\u001b[0m\n\u001b[0;32m      7\u001b[0m \u001b[0mchance_spread\u001b[0m \u001b[1;33m=\u001b[0m \u001b[1;36m15\u001b[0m\u001b[1;33m\u001b[0m\u001b[1;33m\u001b[0m\u001b[0m\n\u001b[1;32m----> 8\u001b[1;33m \u001b[0mstarting_hunger\u001b[0m \u001b[1;33m=\u001b[0m \u001b[0mrandom\u001b[0m\u001b[1;33m.\u001b[0m\u001b[0mrandint\u001b[0m\u001b[1;33m(\u001b[0m\u001b[1;36m10\u001b[0m\u001b[1;33m,\u001b[0m \u001b[1;36m15\u001b[0m\u001b[1;33m)\u001b[0m\u001b[1;33m\u001b[0m\u001b[1;33m\u001b[0m\u001b[0m\n\u001b[0m\u001b[0;32m      9\u001b[0m \u001b[0mwhen_eat\u001b[0m \u001b[1;33m=\u001b[0m \u001b[1;36m10\u001b[0m\u001b[1;33m\u001b[0m\u001b[1;33m\u001b[0m\u001b[0m\n\u001b[0;32m     10\u001b[0m \u001b[0mwidth\u001b[0m\u001b[1;33m,\u001b[0m \u001b[0mheight\u001b[0m \u001b[1;33m=\u001b[0m \u001b[1;36m750\u001b[0m\u001b[1;33m,\u001b[0m \u001b[1;36m750\u001b[0m\u001b[1;33m\u001b[0m\u001b[1;33m\u001b[0m\u001b[0m\n",
      "\u001b[1;31mNameError\u001b[0m: name 'random' is not defined"
     ]
    }
   ],
   "source": [
    "fieldsize = [20,20]\n",
    "n_food = 35 #plants (Green)\n",
    "n_animal_1 = 15 #Herbivore (Yellow)\n",
    "n_animal_2 = 7 #Carnivore (Orange)\n",
    "n_animal_3 = 12 #Omnivore (Magenta)\n",
    "chance_xxx = 100\n",
    "chance_spread = 15\n",
    "starting_hunger = random.randint(10, 15)\n",
    "when_eat = 10\n",
    "width, height = 750, 750\n",
    "filename = open('test.csv','w')\n",
    "max_it = 30"
   ]
  },
  {
   "cell_type": "markdown",
   "metadata": {},
   "source": [
    "- Field: [x,y] is how many blocks wide ('x') the object array is and how many blocks long it is ('y'). This is important as the objects cannot move out of this field, so if it is too cramped, most of them won't be able to move\n",
    "\n",
    "- n_food: the number of the food objects to be created at start of simulation\n",
    "\n",
    "- n_animal_1: the number of animal of type 1 to be created at start of simulation\n",
    "\n",
    "- n_animal_2: the number of animal of type 2 to be created at start of simulation\n",
    "\n",
    "- n_animal_3: the number of animal of type 1 to be created at start of simulation\n",
    "\n",
    "- chance_xxx: chance for an animals of the same type meeting all other condition to procreate with one another\n",
    "\n",
    "- chance_spread: chance for the food tile to spread to an adjacent tile given that other condition are met\n",
    "\n",
    "- starting_hunger (x,y): the starting hunger level for all animals created, is a random integer between x and y\n",
    "\n",
    "- when_eat : The hunger level at which the animals will eat at\n",
    "\n",
    "- width, height = x, y : Size of the pygame window that displays graphical representation of the location of all animals\n",
    "\n",
    "- filename: the name of the file which the data created from the simulation will be saved to.\n",
    "\n",
    "- max_it: The maximum ammount of turns which will be completed in the simulation (to stop infinite simulation and oversized data files)"
   ]
  },
  {
   "cell_type": "markdown",
   "metadata": {},
   "source": [
    "#How to use Assignment_Test_argv.py\n",
    "\n",
    "It is the exact same as Assignment_test.py except, you call in the variables outisde of the code.\n",
    "\n",
    "It is in the exact same order as the variables are listed above"
   ]
  },
  {
   "cell_type": "code",
   "execution_count": null,
   "metadata": {},
   "outputs": [],
   "source": [
    "fieldsize = [sys.argv[1],sys.argv[2]]\n",
    "n_food = sys.argv[3] #plants (Green)\n",
    "n_animal_1 = sys.argv[4] #Herbivore (Yellow)\n",
    "n_animal_2 = sys.argv[5] #Carnivore (Orange)\n",
    "n_animal_3 = sys.argv[6] #Omnivore (Magenta)\n",
    "chance_xxx = sys.argv[7]\n",
    "chance_spread = sys.argv[8]\n",
    "starting_hunger = random.randint(sys.argv[9], sys.argv[10])\n",
    "when_eat = sys.argv[11]\n",
    "width, height = sys.argv[13], sys.argv[14]\n",
    "filename = open(sys.argv[15],'w')\n",
    "max_it = sys.argv[16]"
   ]
  },
  {
   "cell_type": "markdown",
   "metadata": {},
   "source": [
    "#How to use Assignment_test_counter.py\n",
    "\n",
    "This code only saves the counter to a file and you can also have multiple iterations of it. (also added a directory to create/save the file to)"
   ]
  },
  {
   "cell_type": "code",
   "execution_count": null,
   "metadata": {},
   "outputs": [],
   "source": [
    "fieldsize = [25,25]\n",
    "n_food = 50\n",
    "chance_xxx = 20 #chance for reproduction\n",
    "chance_spread = 5 #chance for food to spread\n",
    "starting_hunger = random.randint(12, 18) #starting hunger value for animals\n",
    "when_eat = 10 #when the animals prioritise eating\n",
    "max_it = 500\n",
    "max_animal_total = 45\n",
    "repeat_x = 15\n",
    "filename = 'test.csv'\n",
    "directory = r'C:\\Users\\diamo\\OneDrive\\Desktop\\Programming Assignment\\Simulation_Results'"
   ]
  },
  {
   "cell_type": "markdown",
   "metadata": {},
   "source": [
    "#How to use Assignment_test_counter_arg.py\n",
    "\n",
    "just like Assignment_test_counter.py although you need to parse the variables from the command line."
   ]
  },
  {
   "cell_type": "code",
   "execution_count": null,
   "metadata": {},
   "outputs": [],
   "source": [
    "fieldsize = [sys.argv[1],sys.argv[2]]\n",
    "n_food = sys.argv[3] #plants (Green)\n",
    "chance_xxx = sys.argv[4]\n",
    "chance_spread = sys.argv[5]\n",
    "starting_hunger = random.randint(sys.argv[6], sys.argv[7])\n",
    "when_eat = sys.argv[8]\n",
    "max_it = sys.argv[9]\n",
    "max_animal_total = sys.argv[10]\n",
    "directory = sys.argv[13]\n",
    "filename = sys.argv[12]\n",
    "repeat_x = sys.argv[11]"
   ]
  },
  {
   "cell_type": "markdown",
   "metadata": {},
   "source": [
    "#How to use Assignment_Test_movesave.py\n",
    "\n",
    "This code saves all the moves to a file.\n",
    "Variables are pretty similar"
   ]
  },
  {
   "cell_type": "code",
   "execution_count": null,
   "metadata": {},
   "outputs": [],
   "source": [
    "fieldsize = [20,20]\n",
    "n_food = 35 #plants (Green)\n",
    "chance_xxx = 20\n",
    "chance_spread = 5\n",
    "starting_hunger = random.randint(10, 15)\n",
    "when_eat = 10\n",
    "width, height = 750, 750\n",
    "max_it = 100\n",
    "max_animal_total = 50\n",
    "directory =  r'C:\\Users\\diamo\\OneDrive\\Desktop\\Programming Assignment\\Simulation_Results'\n",
    "file_start_name = 'test.csv'"
   ]
  },
  {
   "cell_type": "markdown",
   "metadata": {},
   "source": [
    "#How to use Assignment_Test_movesave_arg.py\n",
    "\n",
    "This is same as Assignment_Test_movesave.py except you parse in the variables from the command line."
   ]
  },
  {
   "cell_type": "code",
   "execution_count": null,
   "metadata": {},
   "outputs": [],
   "source": [
    "fieldsize = [sys.argv[1],sys.argv[2]]\n",
    "n_food = sys.argv[3] #plants (Green)\n",
    "chance_xxx = sys.argv[4]\n",
    "chance_spread = sys.argv[5]\n",
    "starting_hunger = random.randint(sys.argv[6], sys.argv[7])\n",
    "when_eat = sys.argv[8]\n",
    "max_it = sys.argv[9]\n",
    "max_animal_total = sys.argv[10]\n",
    "directory =  sys.argv[11]\n",
    "file_start_name = sys.argv[12]"
   ]
  },
  {
   "cell_type": "markdown",
   "metadata": {},
   "source": [
    "#References\n",
    "Khushlani, L., 2020. What Is The Surface.Blit() Function In Pygame? What Does It Do? How Does It Work?. [online] Stack Overflow. Available at: <https://stackoverflow.com/questions/37800894/what-is-the-surface-blit-function-in-pygame-what-does-it-do-how-does-it-work> [Accessed 21 October 2020].\n",
    "\n",
    "Programiz.com. 2020. Writing CSV Files In Python. [online] Available at: <https://www.programiz.com/python-programming/writing-csv-files> [Accessed 24 October 2020].\n",
    "\n",
    "Codegrepper.com. 2020. Average Out All Rows Pandas Code Example. [online] Available at: <https://www.codegrepper.com/code-examples/python/average+out+all+rows+pandas> [Accessed 28 October 2020].\n",
    "\n",
    "Stack Overflow. 2017. Add A Row With Means Of Columns To Pandas Dataframe. [online] Available at: <https://stackoverflow.com/questions/42865805/add-a-row-with-means-of-columns-to-pandas-dataframe> [Accessed 29 October 2020]."
   ]
  }
 ],
 "metadata": {
  "kernelspec": {
   "display_name": "Python 3",
   "language": "python",
   "name": "python3"
  },
  "language_info": {
   "codemirror_mode": {
    "name": "ipython",
    "version": 3
   },
   "file_extension": ".py",
   "mimetype": "text/x-python",
   "name": "python",
   "nbconvert_exporter": "python",
   "pygments_lexer": "ipython3",
   "version": "3.8.5"
  }
 },
 "nbformat": 4,
 "nbformat_minor": 4
}
